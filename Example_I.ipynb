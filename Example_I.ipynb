{
 "cells": [
  {
   "cell_type": "code",
   "execution_count": 1,
   "metadata": {},
   "outputs": [],
   "source": [
    "import m2aia as m2\n",
    "import numpy as np\n",
    "\n",
    "from download_helper import DownloadMTBLS2639\n",
    "file_names = DownloadMTBLS2639(selection=[2])"
   ]
  },
  {
   "cell_type": "code",
   "execution_count": 2,
   "metadata": {},
   "outputs": [
    {
     "name": "stdout",
     "output_type": "stream",
     "text": [
      "Spectrum Type: ContinuousProfile\n",
      "Dimensions: [220 171   1]\n",
      "Pixel Spacing: [0.025 0.025 0.01 ]\n",
      "Pixels: 26744\n",
      "Off-Pixels: 10876\n",
      "m/z Bins: 29693\n"
     ]
    }
   ],
   "source": [
    "I = m2.ImzMLReader(file_names[0])\n",
    "I.Execute()\n",
    "print(\"Spectrum Type:\", I.GetSpectrumType())\n",
    "print(\"Dimensions:\", I.GetShape())\n",
    "print(\"Pixel Spacing:\", I.GetSpacing())\n",
    "print(\"Pixels:\", I.GetNumberOfSpectra())\n",
    "print(\"Off-Pixels:\", np.abs(np.product(I.GetShape()) - I.GetNumberOfSpectra()))\n",
    "print(\"m/z Bins:\", I.GetXAxisDepth())\n"
   ]
  },
  {
   "cell_type": "code",
   "execution_count": 3,
   "metadata": {},
   "outputs": [
    {
     "name": "stdout",
     "output_type": "stream",
     "text": [
      "#### Signal processing default parameters ####\n",
      "(baseline-correction None)\n",
      "(baseline-correction-hw 50)\n",
      "(smoothing None)\n",
      "(smoothing-hw 2)\n",
      "(normalization None)\n",
      "(pooling Maximum)\n",
      "(transform None)\n",
      "\n"
     ]
    }
   ],
   "source": [
    "print(\"####\", \"Signal processing default parameters\", \"####\")\n",
    "print(I.GetParametersAsFormattedString())"
   ]
  },
  {
   "cell_type": "code",
   "execution_count": 4,
   "metadata": {},
   "outputs": [
    {
     "name": "stdout",
     "output_type": "stream",
     "text": [
      "#### Other imzML meta-data ####\n",
      "['Bruker Container format', 'Bruker Container nativeID format', 'MD5', 'absolute position offset x', 'absolute position offset y', 'absolute position offset z', 'analyzer.time-of-flight', 'continuous', 'dataProcessing0processingMethod (0).Conversion to mzML', 'dataProcessing0processingMethod (0).baseline reduction', 'detector.microchannel plate detector', 'ibd MD5', 'instrumentConfiguration0.Bruker Daltonics flex series', 'intensity array', 'intensity array value type', 'intensity array value type (bytes)', 'intensityGroupName', 'm/z array', 'm/z array value type', 'm/z array value type (bytes)', 'mass spectrum', 'max count of pixels x', 'max count of pixels y', 'max count of pixels z', 'max dimension x', 'max dimension y', 'mzGroupName', 'number of measurements', 'pixel size x', 'pixel size y', 'pixel size z', 'profile spectrum', 'scanSettings0.horizontal line scan', 'scanSettings0.linescan right left', 'scanSettings0.meandering', 'scanSettings0.top down', 'software0 9.01.12514.SCiLS Lab', 'source.matrix-assisted laser desorption ionization', 'spectral depth', 'universally unique identifier', 'x_max', 'x_min', '']\n"
     ]
    }
   ],
   "source": [
    "print(\"####\", \"Other imzML meta-data\", \"####\")\n",
    "meta_data = I.GetMetaData()\n",
    "print(meta_data)"
   ]
  },
  {
   "cell_type": "code",
   "execution_count": 5,
   "metadata": {},
   "outputs": [
    {
     "name": "stdout",
     "output_type": "stream",
     "text": [
      "### Already applied signal-processing ###\n",
      "['dataProcessing0processingMethod (0).Conversion to mzML', 'dataProcessing0processingMethod (0).baseline reduction']\n"
     ]
    }
   ],
   "source": [
    "print(\"###\", \"Already applied signal-processing\", \"###\")\n",
    "print([f for f in meta_data if 'processing' in f])"
   ]
  }
 ],
 "metadata": {
  "kernelspec": {
   "display_name": "Python 3.10.8 ('venv': venv)",
   "language": "python",
   "name": "python3"
  },
  "language_info": {
   "codemirror_mode": {
    "name": "ipython",
    "version": 3
   },
   "file_extension": ".py",
   "mimetype": "text/x-python",
   "name": "python",
   "nbconvert_exporter": "python",
   "pygments_lexer": "ipython3",
   "version": "3.10.8"
  },
  "orig_nbformat": 4,
  "vscode": {
   "interpreter": {
    "hash": "124375fd1508bbb8886562f7323bd616a65e539de2b8db3ff212ec40fd04e053"
   }
  }
 },
 "nbformat": 4,
 "nbformat_minor": 2
}
