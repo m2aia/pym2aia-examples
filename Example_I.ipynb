{
 "cells": [
  {
   "cell_type": "code",
   "execution_count": 1,
   "metadata": {},
   "outputs": [],
   "source": [
    "import m2aia as m2\n",
    "import numpy as np\n",
    "\n",
    "from download_helper import DownloadMTBLS2639\n",
    "file_names = DownloadMTBLS2639(selection=[2])"
   ]
  },
  {
   "cell_type": "code",
   "execution_count": 2,
   "metadata": {},
   "outputs": [
    {
     "ename": "FileNotFoundError",
     "evalue": "The target library libM2aiaCoreIO.so was not found!",
     "output_type": "error",
     "traceback": [
      "\u001b[0;31m---------------------------------------------------------------------------\u001b[0m",
      "\u001b[0;31mOSError\u001b[0m                                   Traceback (most recent call last)",
      "File \u001b[0;32m~/HS/M2aia/Workspace/src/Python/src/m2aia/ImageIO.py:21\u001b[0m, in \u001b[0;36mload_m2aia_library\u001b[0;34m()\u001b[0m\n\u001b[1;32m     20\u001b[0m \u001b[39mtry\u001b[39;00m:\n\u001b[0;32m---> 21\u001b[0m     \u001b[39mreturn\u001b[39;00m ctypes\u001b[39m.\u001b[39;49mcdll\u001b[39m.\u001b[39;49mLoadLibrary(target_lib)\n\u001b[1;32m     22\u001b[0m \u001b[39mexcept\u001b[39;00m:\n",
      "File \u001b[0;32m/usr/lib/python3.8/ctypes/__init__.py:451\u001b[0m, in \u001b[0;36mLibraryLoader.LoadLibrary\u001b[0;34m(self, name)\u001b[0m\n\u001b[1;32m    450\u001b[0m \u001b[39mdef\u001b[39;00m \u001b[39mLoadLibrary\u001b[39m(\u001b[39mself\u001b[39m, name):\n\u001b[0;32m--> 451\u001b[0m     \u001b[39mreturn\u001b[39;00m \u001b[39mself\u001b[39;49m\u001b[39m.\u001b[39;49m_dlltype(name)\n",
      "File \u001b[0;32m/usr/lib/python3.8/ctypes/__init__.py:373\u001b[0m, in \u001b[0;36mCDLL.__init__\u001b[0;34m(self, name, mode, handle, use_errno, use_last_error, winmode)\u001b[0m\n\u001b[1;32m    372\u001b[0m \u001b[39mif\u001b[39;00m handle \u001b[39mis\u001b[39;00m \u001b[39mNone\u001b[39;00m:\n\u001b[0;32m--> 373\u001b[0m     \u001b[39mself\u001b[39m\u001b[39m.\u001b[39m_handle \u001b[39m=\u001b[39m _dlopen(\u001b[39mself\u001b[39;49m\u001b[39m.\u001b[39;49m_name, mode)\n\u001b[1;32m    374\u001b[0m \u001b[39melse\u001b[39;00m:\n",
      "\u001b[0;31mOSError\u001b[0m: libM2aiaCoreIO.so: cannot open shared object file: No such file or directory",
      "\nDuring handling of the above exception, another exception occurred:\n",
      "\u001b[0;31mFileNotFoundError\u001b[0m                         Traceback (most recent call last)",
      "Cell \u001b[0;32mIn [2], line 1\u001b[0m\n\u001b[0;32m----> 1\u001b[0m I \u001b[38;5;241m=\u001b[39m \u001b[43mm2\u001b[49m\u001b[38;5;241;43m.\u001b[39;49m\u001b[43mImzMLReader\u001b[49m\u001b[43m(\u001b[49m\u001b[43mfile_names\u001b[49m\u001b[43m[\u001b[49m\u001b[38;5;241;43m0\u001b[39;49m\u001b[43m]\u001b[49m\u001b[43m)\u001b[49m\n\u001b[1;32m      2\u001b[0m I\u001b[38;5;241m.\u001b[39mExecute()\n\u001b[1;32m      3\u001b[0m \u001b[38;5;28mprint\u001b[39m(\u001b[38;5;124m\"\u001b[39m\u001b[38;5;124mSpectrum Type:\u001b[39m\u001b[38;5;124m\"\u001b[39m, I\u001b[38;5;241m.\u001b[39mGetSpectrumType())\n",
      "File \u001b[0;32m~/HS/M2aia/Workspace/src/Python/src/m2aia/ImageIO.py:75\u001b[0m, in \u001b[0;36mImzMLReader.__init__\u001b[0;34m(self, imzML_path, baseline_correction, baseline_correction_half_window_size, normalization, smoothing, smoothing_half_window_size, intensity_transformation, pooling)\u001b[0m\n\u001b[1;32m     72\u001b[0m \u001b[39mself\u001b[39m\u001b[39m.\u001b[39msmoothing \u001b[39m=\u001b[39m smoothing\n\u001b[1;32m     73\u001b[0m \u001b[39mself\u001b[39m\u001b[39m.\u001b[39msmoothing_hws \u001b[39m=\u001b[39m smoothing_half_window_size\n\u001b[0;32m---> 75\u001b[0m \u001b[39mself\u001b[39m\u001b[39m.\u001b[39mlib \u001b[39m=\u001b[39m load_m2aia_library()\n\u001b[1;32m     77\u001b[0m HANDLE_PTR \u001b[39m=\u001b[39m c_void_p\n\u001b[1;32m     79\u001b[0m \u001b[39mself\u001b[39m\u001b[39m.\u001b[39mlib\u001b[39m.\u001b[39mCreateImageHandle\u001b[39m.\u001b[39margtypes \u001b[39m=\u001b[39m [\n\u001b[1;32m     80\u001b[0m     c_char_p, c_char_p]\n",
      "File \u001b[0;32m~/HS/M2aia/Workspace/src/Python/src/m2aia/ImageIO.py:23\u001b[0m, in \u001b[0;36mload_m2aia_library\u001b[0;34m()\u001b[0m\n\u001b[1;32m     21\u001b[0m     \u001b[39mreturn\u001b[39;00m ctypes\u001b[39m.\u001b[39mcdll\u001b[39m.\u001b[39mLoadLibrary(target_lib)\n\u001b[1;32m     22\u001b[0m \u001b[39mexcept\u001b[39;00m:\n\u001b[0;32m---> 23\u001b[0m     \u001b[39mraise\u001b[39;00m \u001b[39mFileNotFoundError\u001b[39;00m(\u001b[39mf\u001b[39m\u001b[39m\"\u001b[39m\u001b[39mThe target library \u001b[39m\u001b[39m{\u001b[39;00mtarget_lib\u001b[39m}\u001b[39;00m\u001b[39m was not found!\u001b[39m\u001b[39m\"\u001b[39m)\n",
      "\u001b[0;31mFileNotFoundError\u001b[0m: The target library libM2aiaCoreIO.so was not found!"
     ]
    }
   ],
   "source": [
    "I = m2.ImzMLReader(file_names[0])\n",
    "I.Execute()\n",
    "print(\"Spectrum Type:\", I.GetSpectrumType())\n",
    "print(\"Dimensions:\", I.GetShape())\n",
    "print(\"Pixel Spacing:\", I.GetSpacing())\n",
    "print(\"Pixels:\", I.GetNumberOfSpectra())\n",
    "print(\"Off-Pixels:\", np.abs(np.product(I.GetShape()) - I.GetNumberOfSpectra()))\n",
    "print(\"m/z Bins:\", I.GetXAxisDepth())\n"
   ]
  },
  {
   "cell_type": "code",
   "execution_count": null,
   "metadata": {},
   "outputs": [],
   "source": [
    "print(\"####\", \"Signal processing default parameters\", \"####\")\n",
    "print(I.GetParametersAsFormattedString())"
   ]
  },
  {
   "cell_type": "code",
   "execution_count": null,
   "metadata": {},
   "outputs": [],
   "source": [
    "print(\"####\", \"Other imzML meta-data\", \"####\")\n",
    "meta_data = I.GetMetaData()\n",
    "print(meta_data)"
   ]
  },
  {
   "cell_type": "code",
   "execution_count": null,
   "metadata": {},
   "outputs": [],
   "source": [
    "print(\"###\", \"Already applied signal-processing\", \"###\")\n",
    "print([f for f in meta_data if 'processing' in f])"
   ]
  }
 ],
 "metadata": {
  "kernelspec": {
   "display_name": "Python 3.8.10 ('venv': venv)",
   "language": "python",
   "name": "python3"
  },
  "language_info": {
   "codemirror_mode": {
    "name": "ipython",
    "version": 3
   },
   "file_extension": ".py",
   "mimetype": "text/x-python",
   "name": "python",
   "nbconvert_exporter": "python",
   "pygments_lexer": "ipython3",
   "version": "3.8.10"
  },
  "orig_nbformat": 4,
  "vscode": {
   "interpreter": {
    "hash": "efb19040805b985c0507ef89f64d986c083f5ebc26decb1cfe9aa2a6b4fd684d"
   }
  }
 },
 "nbformat": 4,
 "nbformat_minor": 2
}
