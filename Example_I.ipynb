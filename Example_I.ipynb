{
 "cells": [
  {
   "cell_type": "code",
   "execution_count": 1,
   "metadata": {},
   "outputs": [],
   "source": [
    "import m2aia as m2\n",
    "import numpy as np\n",
    "\n",
    "from download_helper import DownloadMTBLS2639\n",
    "file_names = DownloadMTBLS2639(selection=[2])"
   ]
  },
  {
   "cell_type": "code",
   "execution_count": null,
   "metadata": {},
   "outputs": [],
   "source": [
    "I = m2.ImzMLReader(file_names[0])\n",
    "I.Execute()\n",
    "print(\"Spectrum Type:\", I.GetSpectrumType())\n",
    "print(\"Dimensions:\", I.GetShape())\n",
    "print(\"Pixel Spacing:\", I.GetSpacing())\n",
    "print(\"Pixels:\", I.GetNumberOfSpectra())\n",
    "print(\"Off-Pixels:\", np.abs(np.product(I.GetShape()) - I.GetNumberOfSpectra()))\n",
    "print(\"m/z Bins:\", I.GetXAxisDepth())\n"
   ]
  },
  {
   "cell_type": "code",
   "execution_count": null,
   "metadata": {},
   "outputs": [],
   "source": [
    "print(\"####\", \"Signal processing default parameters\", \"####\")\n",
    "print(I.GetParametersAsFormattedString())"
   ]
  },
  {
   "cell_type": "code",
   "execution_count": null,
   "metadata": {},
   "outputs": [],
   "source": [
    "print(\"####\", \"Other imzML meta-data\", \"####\")\n",
    "meta_data = I.GetMetaData()\n",
    "print(meta_data)"
   ]
  },
  {
   "cell_type": "code",
   "execution_count": null,
   "metadata": {},
   "outputs": [],
   "source": [
    "print(\"###\", \"Already applied signal-processing\", \"###\")\n",
    "print([f for f in meta_data if 'processing' in f])"
   ]
  }
 ],
 "metadata": {
  "kernelspec": {
   "display_name": "Python 3.10.8 ('venv': venv)",
   "language": "python",
   "name": "python3"
  },
  "language_info": {
   "codemirror_mode": {
    "name": "ipython",
    "version": 3
   },
   "file_extension": ".py",
   "mimetype": "text/x-python",
   "name": "python",
   "nbconvert_exporter": "python",
   "pygments_lexer": "ipython3",
   "version": "3.10.8"
  },
  "orig_nbformat": 4,
  "vscode": {
   "interpreter": {
    "hash": "124375fd1508bbb8886562f7323bd616a65e539de2b8db3ff212ec40fd04e053"
   }
  }
 },
 "nbformat": 4,
 "nbformat_minor": 2
}
