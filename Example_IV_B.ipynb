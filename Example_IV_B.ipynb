{
 "cells": [
  {
   "cell_type": "code",
   "execution_count": 1,
   "metadata": {},
   "outputs": [
    {
     "name": "stdout",
     "output_type": "stream",
     "text": [
      "None\n"
     ]
    },
    {
     "name": "stderr",
     "output_type": "stream",
     "text": [
      "2022-11-23 08:14:45.989110: I tensorflow/core/platform/cpu_feature_guard.cc:193] This TensorFlow binary is optimized with oneAPI Deep Neural Network Library (oneDNN) to use the following CPU instructions in performance-critical operations:  AVX2 FMA\n",
      "To enable them in other operations, rebuild TensorFlow with the appropriate compiler flags.\n"
     ]
    },
    {
     "ename": "ModuleNotFoundError",
     "evalue": "No module named 'seaborn_image'",
     "output_type": "error",
     "traceback": [
      "\u001b[0;31m---------------------------------------------------------------------------\u001b[0m",
      "\u001b[0;31mModuleNotFoundError\u001b[0m                       Traceback (most recent call last)",
      "Cell \u001b[0;32mIn [1], line 6\u001b[0m\n\u001b[1;32m      4\u001b[0m \u001b[39mfrom\u001b[39;00m \u001b[39mmsiPL\u001b[39;00m\u001b[39m.\u001b[39;00m\u001b[39mComputational_Model\u001b[39;00m \u001b[39mimport\u001b[39;00m VAE_BN\n\u001b[1;32m      5\u001b[0m \u001b[39mimport\u001b[39;00m \u001b[39mseaborn\u001b[39;00m \u001b[39mas\u001b[39;00m \u001b[39msns\u001b[39;00m\n\u001b[0;32m----> 6\u001b[0m \u001b[39mimport\u001b[39;00m \u001b[39mseaborn_image\u001b[39;00m \u001b[39mas\u001b[39;00m \u001b[39mseaim\u001b[39;00m\n\u001b[1;32m      8\u001b[0m \u001b[39mimport\u001b[39;00m \u001b[39mmatplotlib\u001b[39;00m\u001b[39m.\u001b[39;00m\u001b[39mpyplot\u001b[39;00m \u001b[39mas\u001b[39;00m \u001b[39mplt\u001b[39;00m\n\u001b[1;32m      9\u001b[0m \u001b[39mimport\u001b[39;00m \u001b[39mos\u001b[39;00m\n",
      "\u001b[0;31mModuleNotFoundError\u001b[0m: No module named 'seaborn_image'"
     ]
    }
   ],
   "source": [
    "import m2aia as m2\n",
    "import numpy as np\n",
    "import tensorflow as tf\n",
    "from msiPL.Computational_Model import VAE_BN\n",
    "\n",
    "import matplotlib.pyplot as plt\n",
    "import os\n",
    "\n",
    "from Example_IV_Helpers import running_variance_update as update \n",
    "from Example_IV_Helpers import running_variance_finalize as finalize\n",
    "from Example_IV_Helpers import BatchSequence\n",
    "\n",
    "from msiPL.LearnPeaks import *\n",
    "\n",
    "from download_helper import DownloadMTBLS2639\n",
    "file_names = DownloadMTBLS2639([1,2,3,4])\n",
    "\n",
    "\n"
   ]
  },
  {
   "cell_type": "code",
   "execution_count": null,
   "metadata": {},
   "outputs": [],
   "source": [
    "from pathlib import Path\n",
    "\n",
    "latent_dim = 5\n",
    "interim_dim = 256\n",
    "epochs = 50\n",
    "batch_size = 128\n",
    "\n",
    "models = None\n",
    "handles = []\n",
    "# READ DATA\n",
    "for f in file_names:\n",
    "\n",
    "    I = m2.ImzMLReader(f)\n",
    "    I.Execute()\n",
    "    handles.append(I)\n",
    "\n",
    "vae = VAE_BN(I.GetXAxisDepth(), interim_dim, latent_dim)\n",
    "myModel, encoder = vae.get_architecture()\n",
    "\n",
    "f_name = Path(f).name\n",
    "if os.path.exists(f'models/{interim_dim}_{f_name}_multiple.h5'):\n",
    "    # ============= Load Model =================\n",
    "    myModel.load_weights(f'models/{interim_dim}_{f_name}_multiple.h5')\n",
    "else:\n",
    "    # ============= Model Training =================\n",
    "    dataset = m2.Dataset.SpectrumDataset(handles)\n",
    "    gen = BatchSequence(dataset, batch_size=batch_size, shuffle=True)\n",
    "    history = myModel.fit(gen, epochs=epochs)\n",
    "    myModel.save_weights(f'models/{interim_dim}_{f_name}_multiple.h5')\n",
    "\n",
    "models = [myModel, encoder]"
   ]
  },
  {
   "cell_type": "code",
   "execution_count": null,
   "metadata": {},
   "outputs": [],
   "source": [
    "learned_peaks = []\n",
    "Beta = 1.3\n",
    "for k, I in enumerate(handles):   \n",
    "    I : m2.ImzMLReader = I\n",
    "\n",
    "    count = 0\n",
    "    mean = np.zeros_like(I.GetXAxis())\n",
    "    deltaM2  = np.zeros_like(I.GetXAxis())\n",
    "    existingAggregate = (count, mean, deltaM2)\n",
    "\n",
    "    for i in range(I.GetNumberOfSpectra()):\n",
    "        xs, ys = I.GetSpectrum(i)\n",
    "        existingAggregate = update(existingAggregate, ys)\n",
    "        \n",
    "_, var, _ = finalize(existingAggregate)\n",
    "W_enc = models[1].get_weights()\n",
    "_, _, _, Real_PeakIdx = LearnPeaks(I.GetXAxis(), W_enc, np.sqrt(var), latent_dim,Beta, I.GetMeanSpectrum())\n",
    "learned_peaks.append(Real_PeakIdx)\n"
   ]
  },
  {
   "cell_type": "code",
   "execution_count": null,
   "metadata": {},
   "outputs": [],
   "source": [
    "mean_orig_spectra = []\n",
    "mean_recon_spectra = []\n",
    "for i, I in enumerate(handles):\n",
    "    dataset = m2.Dataset.SpectrumDataset([I])\n",
    "    gen = m2.BatchGenerator(dataset, batch_size=I.GetNumberOfSpectra(), shuffle=True)\n",
    "    X = gen[0]\n",
    "    R = models[0].predict(X)\n",
    "    mean_orig_spectra.append(np.mean(X,axis=0))\n",
    "    mean_recon_spectra.append(np.mean(R,axis=0))"
   ]
  },
  {
   "cell_type": "code",
   "execution_count": null,
   "metadata": {},
   "outputs": [],
   "source": [
    "# np.save(\"IV_B.np\", mean_recon_spectra)\n",
    "# np.save(\"learned_peaks\", learned_peaks)"
   ]
  },
  {
   "cell_type": "code",
   "execution_count": null,
   "metadata": {},
   "outputs": [],
   "source": [
    "xs = I.GetXAxis()\n",
    "colors = ['r{}','g{}','b{}','y{}']\n",
    "labels = []\n",
    "ytick = []\n",
    "yhlines = []\n",
    "ytick_label = []\n",
    "scale_factor = 0.7\n",
    "fraction_of_max = 0.05\n",
    "stretch_factor = 1\n",
    "plt.figure(figsize=(16,9))\n",
    "for i, _ in enumerate(handles):\n",
    "    ytick.append(-i*stretch_factor)\n",
    "    yhlines.append(-i*stretch_factor-0.15)\n",
    "    ytick.append(((-i*stretch_factor)+(-i*stretch_factor+scale_factor))*0.5)\n",
    "    ytick.append(-i*stretch_factor+scale_factor)\n",
    "    ytick_label.append('')\n",
    "    ytick_label.append(f'Slice {i+1}')\n",
    "    ytick_label.append(f'{int(fraction_of_max*100)}%')\n",
    "    err = np.abs(mean_orig_spectra[i]-mean_recon_spectra[i])\n",
    "    plt.plot(xs, np.clip(mean_orig_spectra[i]/(np.max(mean_orig_spectra[i])*fraction_of_max),0,1)*0.7 - (i*stretch_factor),  color='#facd60')\n",
    "    plt.plot(xs, np.clip(mean_recon_spectra[i]/(np.max(mean_orig_spectra[i])*fraction_of_max),0,1)*0.7 - (i*stretch_factor), color='k', alpha=0.7, linestyle=(0, (4, 4)))\n",
    "    plt.plot(xs, err/(np.max(mean_orig_spectra)*fraction_of_max) - (i*stretch_factor), color='#e74645')\n",
    "\n",
    "    plt.plot(xs[learned_peaks[0]], [-(i*stretch_factor)-0.05 for _ in learned_peaks[0]], '^', color='b')\n",
    "\n",
    "labels.append(f'Original mean spectrum')\n",
    "labels.append(f'Reconstructed mean spectrum')\n",
    "labels.append(f'Absolute error')\n",
    "labels.append(f'Identified peaks')\n",
    "plt.hlines(ytick[2::3],200,270, colors='gray', label=[f'Section {l+1}' for l in range(4)], linestyles='dotted')\n",
    "plt.legend(labels=labels, fontsize='large', bbox_to_anchor=(0.375,-0.25), loc=\"center left\")\n",
    "plt.xlabel('m/z')\n",
    "plt.ylabel('Normalized intensity/error')\n",
    "plt.yticks(ytick, ytick_label)\n",
    "plt.xlim([220, 240])"
   ]
  },
  {
   "cell_type": "code",
   "execution_count": null,
   "metadata": {},
   "outputs": [],
   "source": [
    "# ======== Visualize encoded Features (learned non-linear spectral manifold) ==========\n",
    "\n",
    "ims = []\n",
    "height = 0\n",
    "width = 0\n",
    "x_dims = []\n",
    "y_dims = []\n",
    "\n",
    "for j, I in enumerate(handles):\n",
    "    \n",
    "    x_dim, y_dim, z_dim = I.GetShape()\n",
    "    print(x_dim, y_dim, z_dim)\n",
    "    im = np.zeros((latent_dim, y_dim, x_dim))\n",
    "    x_dims.append(x_dim)\n",
    "    y_dims.append(y_dim)\n",
    "\n",
    "    dataset = m2.Dataset.SpectrumDataset([I])\n",
    "    gen = m2.BatchGenerator(dataset, batch_size=I.GetNumberOfSpectra(), shuffle=False)\n",
    "    _, _, c = models[1].predict(gen[0])\n",
    "    \n",
    "    for id in range(I.GetNumberOfSpectra()):\n",
    "        x,y,z = I.GetSpectrumPosition(id)\n",
    "        im[:, y, x] = c[id,:]\n",
    "    \n",
    "    # for ll in range(latent_dim):\n",
    "    #     im[ll, y, x] = im[ll, y, x] - np.mean(im[ll, y, x])\n",
    "    #     im[ll, y, x] = im[ll, y, x] / np.std(im[ll, y, x])\n",
    "        \n",
    "\n",
    "    ims.append(im)\n"
   ]
  },
  {
   "cell_type": "code",
   "execution_count": null,
   "metadata": {},
   "outputs": [],
   "source": [
    "import seaborn as sns\n",
    "import seaborn_image as seaim\n",
    "sns.set_theme(style=\"darkgrid\")\n",
    "sns.set(rc={'figure.figsize':(19,6)})\n",
    "\n",
    "height = np.sum(y_dims)\n",
    "max_im_width = np.max(x_dims)\n",
    "width = max_im_width * latent_dim\n",
    "\n",
    "im_final = np.zeros((height, width))\n",
    "\n",
    "\n",
    "y_pos = 0\n",
    "for i, ims_temp in enumerate(ims):\n",
    "    d,h,w = ims_temp.shape\n",
    "    # print(h,w)\n",
    "    min = np.min(ims_temp)\n",
    "    max = np.max(ims_temp)\n",
    "    x_pos = 0\n",
    "    for k in range(latent_dim):\n",
    "        # print(y_pos,y_pos+h, x_pos,x_pos+w)\n",
    "        \n",
    "        rescaled = np.copy(ims_temp[k])\n",
    "        mask = rescaled!=0\n",
    "        # rescaled[mask] = rescaled[mask] - np.mean(rescaled[mask])\n",
    "        # rescaled[mask] = rescaled[mask] / np.max(np.abs(rescaled[mask]))\n",
    "        w_delta_2 = (max_im_width-w)/2\n",
    "        im_final[y_pos:y_pos + h , x_pos+int(w_delta_2):x_pos+int(w_delta_2)+w] = rescaled\n",
    "        x_pos = x_pos + max_im_width\n",
    "    y_pos = y_pos + h\n",
    "\n",
    "# im_final[im_final!=0] = im_final[im_final!=0] - np.min(im_final)\n",
    "\n",
    "seaim.imgplot(im_final, cmap=\"Greys\", dx=25, units=\"um\")\n",
    "plt.savefig(\"IV_B.png\", dpi=350)"
   ]
  }
 ],
 "metadata": {
  "kernelspec": {
   "display_name": "Python 3.8.10 64-bit",
   "language": "python",
   "name": "python3"
  },
  "language_info": {
   "codemirror_mode": {
    "name": "ipython",
    "version": 3
   },
   "file_extension": ".py",
   "mimetype": "text/x-python",
   "name": "python",
   "nbconvert_exporter": "python",
   "pygments_lexer": "ipython3",
   "version": "3.8.10"
  },
  "orig_nbformat": 4,
  "vscode": {
   "interpreter": {
    "hash": "31f2aee4e71d21fbe5cf8b01ff0e069b9275f58929596ceb00d14d90e3e16cd6"
   }
  }
 },
 "nbformat": 4,
 "nbformat_minor": 2
}
