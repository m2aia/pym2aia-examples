{
 "cells": [
  {
   "cell_type": "code",
   "execution_count": 1,
   "metadata": {},
   "outputs": [],
   "source": [
    "# import os\n",
    "# os.environ[\"M2AIA_PATH\"] = \"/home/jtfc/HS/M2aia/m2aia-dev/m2aia-release/MITK-build/lib/\"\n",
    "\n",
    "from pprint import pprint\n",
    "import m2aia as m2\n",
    "import numpy as np\n",
    "\n",
    "from download_helper import DownloadMTBLS2639\n",
    "file_names = DownloadMTBLS2639(selection=[2])\n",
    "\n",
    "def print(*args,**kwargs):\n",
    "    pprint(args)"
   ]
  },
  {
   "cell_type": "code",
   "execution_count": 2,
   "metadata": {},
   "outputs": [
    {
     "name": "stdout",
     "output_type": "stream",
     "text": [
      "[Tue Nov  7 16:36:21 2023 \n",
      "28.458] [imzML]: data/150429_ew_section2_pos.imzML\n",
      "\t[pixel size (mm)]: 0.025000x0.025000x0.010000\n",
      "\t[image dimension]: 220x171x1\n",
      "\t[num spectra]: 26744\n",
      "\t[spec. type]: ContinuousProfile\n",
      "\t[mass range]: 99.792458 to 1285.640137 with #29693 measurements\n",
      "('Spectrum Type:', 'ContinuousProfile')\n",
      "('Dimensions:', array([220, 171,   1], dtype=int32))\n",
      "('Pixel Spacing:', array([0.025, 0.025, 0.01 ]))\n",
      "('Pixels:', 26744)\n",
      "('Off-Pixels:', 10876)\n",
      "('m/z Bins:', 29693)\n"
     ]
    }
   ],
   "source": [
    "I = m2.ImzMLReader(file_names[0])\n",
    "\n",
    "print(\"Spectrum Type:\", I.GetSpectrumType())\n",
    "print(\"Dimensions:\", I.GetShape())\n",
    "print(\"Pixel Spacing:\", I.GetSpacing())\n",
    "print(\"Pixels:\", I.GetNumberOfSpectra())\n",
    "print(\"Off-Pixels:\", np.abs(np.product(I.GetShape()) - I.GetNumberOfSpectra()))\n",
    "print(\"m/z Bins:\", I.GetXAxisDepth())\n"
   ]
  },
  {
   "cell_type": "code",
   "execution_count": 3,
   "metadata": {},
   "outputs": [
    {
     "name": "stdout",
     "output_type": "stream",
     "text": [
      "('####', 'Signal processing default parameters', '####')\n",
      "('(baseline-correction None)\\n'\n",
      " '(baseline-correction-hw 50)\\n'\n",
      " '(smoothing None)\\n'\n",
      " '(smoothing-hw 2)\\n'\n",
      " '(normalization None)\\n'\n",
      " '(pooling Maximum)\\n'\n",
      " '(transform None)\\n',)\n"
     ]
    }
   ],
   "source": [
    "print(\"####\", \"Signal processing default parameters\", \"####\")\n",
    "print(I.GetParametersAsFormattedString())"
   ]
  },
  {
   "cell_type": "code",
   "execution_count": 4,
   "metadata": {},
   "outputs": [
    {
     "name": "stdout",
     "output_type": "stream",
     "text": [
      "('####', 'Other imzML meta-data', '####')\n",
      "({'(original imzML value) [IMS:1000042] max count of pixels x': '220',\n",
      "  '(original imzML value) [IMS:1000043] max count of pixels y': '171',\n",
      "  '(original imzML value) max count of pixels z': '1',\n",
      "  '[IMS:1000030] continuous': 'true',\n",
      "  '[IMS:1000042] max count of pixels x': '220',\n",
      "  '[IMS:1000043] max count of pixels y': '171',\n",
      "  '[IMS:1000044] max dimension x': '5500',\n",
      "  '[IMS:1000045] max dimension y': '4275',\n",
      "  '[IMS:1000046] pixel size x': '0.025',\n",
      "  '[IMS:1000047] pixel size y': '0.025',\n",
      "  '[IMS:1000053] absolute position offset x': '0',\n",
      "  '[IMS:1000054] absolute position offset y': '0',\n",
      "  '[IMS:1000080] universally unique identifier': 'c6bf3756-9c38-432f-a721-3419d10e3810',\n",
      "  '[IMS:1000090] ibd MD5': 'DEDCA194A6FDDD5CAD7DFBC761B4080F',\n",
      "  '[IMS:1000101] intensities.external data': 'true',\n",
      "  '[IMS:1000101] mzArray.external data': 'true',\n",
      "  '[IMS:1000401] scanSettings0.top down': 'true',\n",
      "  '[IMS:1000410] scanSettings0.meandering': 'true',\n",
      "  '[IMS:1000480] scanSettings0.horizontal line scan': 'true',\n",
      "  '[IMS:1000490] scanSettings0.linescan right left': 'true',\n",
      "  '[MS:1000075] source.matrix-assisted laser desorption ionization': 'true',\n",
      "  '[MS:1000084] analyzer.time-of-flight': 'true',\n",
      "  '[MS:1000114] detector.microchannel plate detector': 'true',\n",
      "  '[MS:1000128] profile spectrum': 'true',\n",
      "  '[MS:1000128] spectrum.profile spectrum': 'true',\n",
      "  '[MS:1000294] mass spectrum': 'true',\n",
      "  '[MS:1000294] spectrum.mass spectrum': 'true',\n",
      "  '[MS:1000514] mzArray.m/z array': 'true',\n",
      "  '[MS:1000515] intensities.intensity array': 'true',\n",
      "  '[MS:1000521] intensities.32-bit float': 'true',\n",
      "  '[MS:1000523] mzArray.64-bit float': 'true',\n",
      "  '[MS:1000544] dataProcessing0.processingMethod (0).Conversion to mzML': 'true',\n",
      "  '[MS:1000568] MD5': 'true',\n",
      "  '[MS:1000576] intensities.no compression': 'true',\n",
      "  '[MS:1000576] mzArray.no compression': 'true',\n",
      "  '[MS:1000593] dataProcessing0.processingMethod (0).baseline reduction': 'true',\n",
      "  '[MS:1001534] instrumentConfiguration0.Bruker Daltonics flex series': 'true',\n",
      "  '[MS:1002302] Bruker Container format': 'true',\n",
      "  '[MS:1002303] Bruker Container nativeID format': 'true',\n",
      "  '[MS:1002384] software0 9.01.12514.SCiLS Lab': 'true',\n",
      "  'absolute position offset z': '0',\n",
      "  'm2aia.imzml.format_type': 'continuous',\n",
      "  'm2aia.imzml.intensities.value_type': '32-bit float',\n",
      "  'm2aia.imzml.intensities.value_type_in_bytes': '4',\n",
      "  'm2aia.imzml.intensityGroupID': 'intensities',\n",
      "  'm2aia.imzml.mzArray.value_type': '64-bit float',\n",
      "  'm2aia.imzml.mzArray.value_type_in_bytes': '8',\n",
      "  'm2aia.imzml.mzGroupID': 'mzArray',\n",
      "  'm2aia.imzml.spectrum_type': 'profile spectrum',\n",
      "  'm2aia.xs.max': '1285.64',\n",
      "  'm2aia.xs.min': '99.7925',\n",
      "  'm2aia.xs.n': '29693',\n",
      "  'max count of pixels z': '1',\n",
      "  'number of measurements': '26744',\n",
      "  'pixel size z': '0.01'},)\n"
     ]
    }
   ],
   "source": [
    "print(\"####\", \"Other imzML meta-data\", \"####\")\n",
    "meta_data = I.GetMetaData()\n",
    "print(meta_data)"
   ]
  },
  {
   "cell_type": "code",
   "execution_count": 5,
   "metadata": {},
   "outputs": [
    {
     "name": "stdout",
     "output_type": "stream",
     "text": [
      "('###', 'Already applied signal-processing', '###')\n",
      "(['[MS:1000544] dataProcessing0.processingMethod (0).Conversion to mzML',\n",
      "  '[MS:1000593] dataProcessing0.processingMethod (0).baseline reduction'],)\n"
     ]
    }
   ],
   "source": [
    "print(\"###\", \"Already applied signal-processing\", \"###\")\n",
    "print([f for f in meta_data if 'processing' in f])"
   ]
  }
 ],
 "metadata": {
  "kernelspec": {
   "display_name": "Python 3.8.10 ('venv': venv)",
   "language": "python",
   "name": "python3"
  },
  "language_info": {
   "codemirror_mode": {
    "name": "ipython",
    "version": 3
   },
   "file_extension": ".py",
   "mimetype": "text/x-python",
   "name": "python",
   "nbconvert_exporter": "python",
   "pygments_lexer": "ipython3",
   "version": "3.10.12"
  },
  "orig_nbformat": 4,
  "vscode": {
   "interpreter": {
    "hash": "124375fd1508bbb8886562f7323bd616a65e539de2b8db3ff212ec40fd04e053"
   }
  }
 },
 "nbformat": 4,
 "nbformat_minor": 2
}
